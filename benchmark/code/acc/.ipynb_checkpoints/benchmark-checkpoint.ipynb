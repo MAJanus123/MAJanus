{
 "cells": [
  {
   "cell_type": "code",
   "execution_count": 1,
   "id": "d21a3e2f",
   "metadata": {
    "pycharm": {
     "name": "#%%\n"
    }
   },
   "outputs": [
    {
     "name": "stdout",
     "output_type": "stream",
     "text": [
      "/home/binqian/PycharmProjects/Video-Analytics-Task-Offloading\n"
     ]
    }
   ],
   "source": [
    "%cd ~/PycharmProjects/Video-Analytics-Task-Offloading/"
   ]
  },
  {
   "cell_type": "code",
   "execution_count": 2,
   "id": "8e906f4b",
   "metadata": {
    "pycharm": {
     "name": "#%%\n"
    }
   },
   "outputs": [],
   "source": [
    "import sys\n",
    "root_path = '/home/binqian/PycharmProjects/Video-Analytics-Task-Offloading'\n",
    "sys.path.append(root_path)\n",
    "sys.path.append(root_path+'/res/yolov5')"
   ]
  },
  {
   "cell_type": "code",
   "execution_count": 3,
   "id": "b1a14abd",
   "metadata": {
    "pycharm": {
     "name": "#%%\n"
    }
   },
   "outputs": [
    {
     "data": {
      "text/plain": [
       "['val_test.py',\n",
       " '.idea',\n",
       " 'res',\n",
       " 'weights',\n",
       " '.git',\n",
       " 'README.md',\n",
       " 'benchmark',\n",
       " 'cloud',\n",
       " 'edge',\n",
       " 'Literature',\n",
       " '.gitignore',\n",
       " 'camera']"
      ]
     },
     "execution_count": 3,
     "metadata": {},
     "output_type": "execute_result"
    }
   ],
   "source": [
    "import os\n",
    "os.listdir()"
   ]
  },
  {
   "cell_type": "code",
   "execution_count": 4,
   "id": "55c4d12b",
   "metadata": {
    "pycharm": {
     "name": "#%%\n"
    }
   },
   "outputs": [],
   "source": [
    "import time\n",
    "import numpy as np\n",
    "import torch\n",
    "import numpy as np\n",
    "\n",
    "from res.video_stream import VideoStream, bytes2numpy\n",
    "from res.yolov5.utils.general import xywh2xyxy\n",
    "from res.yolov5.utils.metrics import box_iou\n",
    "\n",
    "from res.yolov5.YOLO import YOLO"
   ]
  },
  {
   "cell_type": "code",
   "execution_count": 5,
   "id": "55cb6e9c",
   "metadata": {
    "pycharm": {
     "name": "#%%\n"
    }
   },
   "outputs": [
    {
     "data": {
      "text/plain": [
       "'/home/binqian/PycharmProjects/Video-Analytics-Task-Offloading/res/video/03a2c043-647da9c7.mp4'"
      ]
     },
     "execution_count": 5,
     "metadata": {},
     "output_type": "execute_result"
    }
   ],
   "source": [
    "video_path = root_path + '/res/video/03a2c043-647da9c7.mp4'\n",
    "video_path"
   ]
  },
  {
   "cell_type": "code",
   "execution_count": 6,
   "id": "dc329363",
   "metadata": {
    "pycharm": {
     "name": "#%%\n"
    }
   },
   "outputs": [
    {
     "data": {
      "text/plain": [
       "6.766667"
      ]
     },
     "execution_count": 6,
     "metadata": {},
     "output_type": "execute_result"
    }
   ],
   "source": [
    "chunk_duration = 1\n",
    "stream = VideoStream(video_path, chunk_duration)\n",
    "stream.video_duration"
   ]
  },
  {
   "cell_type": "code",
   "execution_count": 7,
   "id": "1e8da62b",
   "metadata": {
    "pycharm": {
     "name": "#%%\n"
    }
   },
   "outputs": [
    {
     "data": {
      "text/plain": [
       "['03a2c043-647da9c7-0000001.txt',\n",
       " '03a2c043-647da9c7-0000002.txt',\n",
       " '03a2c043-647da9c7-0000003.txt',\n",
       " '03a2c043-647da9c7-0000004.txt',\n",
       " '03a2c043-647da9c7-0000005.txt',\n",
       " '03a2c043-647da9c7-0000006.txt',\n",
       " '03a2c043-647da9c7-0000007.txt',\n",
       " '03a2c043-647da9c7-0000008.txt',\n",
       " '03a2c043-647da9c7-0000009.txt',\n",
       " '03a2c043-647da9c7-0000010.txt',\n",
       " '03a2c043-647da9c7-0000011.txt',\n",
       " '03a2c043-647da9c7-0000012.txt',\n",
       " '03a2c043-647da9c7-0000013.txt',\n",
       " '03a2c043-647da9c7-0000014.txt',\n",
       " '03a2c043-647da9c7-0000015.txt',\n",
       " '03a2c043-647da9c7-0000016.txt',\n",
       " '03a2c043-647da9c7-0000017.txt',\n",
       " '03a2c043-647da9c7-0000018.txt',\n",
       " '03a2c043-647da9c7-0000019.txt',\n",
       " '03a2c043-647da9c7-0000020.txt',\n",
       " '03a2c043-647da9c7-0000021.txt',\n",
       " '03a2c043-647da9c7-0000022.txt',\n",
       " '03a2c043-647da9c7-0000023.txt',\n",
       " '03a2c043-647da9c7-0000024.txt',\n",
       " '03a2c043-647da9c7-0000025.txt',\n",
       " '03a2c043-647da9c7-0000026.txt',\n",
       " '03a2c043-647da9c7-0000027.txt',\n",
       " '03a2c043-647da9c7-0000028.txt',\n",
       " '03a2c043-647da9c7-0000029.txt',\n",
       " '03a2c043-647da9c7-0000030.txt',\n",
       " '03a2c043-647da9c7-0000031.txt',\n",
       " '03a2c043-647da9c7-0000032.txt',\n",
       " '03a2c043-647da9c7-0000033.txt',\n",
       " '03a2c043-647da9c7-0000034.txt',\n",
       " '03a2c043-647da9c7-0000035.txt',\n",
       " '03a2c043-647da9c7-0000036.txt',\n",
       " '03a2c043-647da9c7-0000037.txt',\n",
       " '03a2c043-647da9c7-0000038.txt',\n",
       " '03a2c043-647da9c7-0000039.txt',\n",
       " '03a2c043-647da9c7-0000040.txt',\n",
       " '03a2c043-647da9c7-0000041.txt',\n",
       " '03a2c043-647da9c7-0000042.txt',\n",
       " '03a2c043-647da9c7-0000043.txt',\n",
       " '03a2c043-647da9c7-0000044.txt',\n",
       " '03a2c043-647da9c7-0000045.txt',\n",
       " '03a2c043-647da9c7-0000046.txt',\n",
       " '03a2c043-647da9c7-0000047.txt',\n",
       " '03a2c043-647da9c7-0000048.txt',\n",
       " '03a2c043-647da9c7-0000049.txt',\n",
       " '03a2c043-647da9c7-0000050.txt',\n",
       " '03a2c043-647da9c7-0000051.txt',\n",
       " '03a2c043-647da9c7-0000052.txt',\n",
       " '03a2c043-647da9c7-0000053.txt',\n",
       " '03a2c043-647da9c7-0000054.txt',\n",
       " '03a2c043-647da9c7-0000055.txt',\n",
       " '03a2c043-647da9c7-0000056.txt',\n",
       " '03a2c043-647da9c7-0000057.txt',\n",
       " '03a2c043-647da9c7-0000058.txt',\n",
       " '03a2c043-647da9c7-0000059.txt',\n",
       " '03a2c043-647da9c7-0000060.txt',\n",
       " '03a2c043-647da9c7-0000061.txt',\n",
       " '03a2c043-647da9c7-0000062.txt',\n",
       " '03a2c043-647da9c7-0000063.txt',\n",
       " '03a2c043-647da9c7-0000064.txt',\n",
       " '03a2c043-647da9c7-0000065.txt',\n",
       " '03a2c043-647da9c7-0000066.txt',\n",
       " '03a2c043-647da9c7-0000067.txt',\n",
       " '03a2c043-647da9c7-0000068.txt',\n",
       " '03a2c043-647da9c7-0000069.txt',\n",
       " '03a2c043-647da9c7-0000070.txt',\n",
       " '03a2c043-647da9c7-0000071.txt',\n",
       " '03a2c043-647da9c7-0000072.txt',\n",
       " '03a2c043-647da9c7-0000073.txt',\n",
       " '03a2c043-647da9c7-0000074.txt',\n",
       " '03a2c043-647da9c7-0000075.txt',\n",
       " '03a2c043-647da9c7-0000076.txt',\n",
       " '03a2c043-647da9c7-0000077.txt',\n",
       " '03a2c043-647da9c7-0000078.txt',\n",
       " '03a2c043-647da9c7-0000079.txt',\n",
       " '03a2c043-647da9c7-0000080.txt',\n",
       " '03a2c043-647da9c7-0000081.txt',\n",
       " '03a2c043-647da9c7-0000082.txt',\n",
       " '03a2c043-647da9c7-0000083.txt',\n",
       " '03a2c043-647da9c7-0000084.txt',\n",
       " '03a2c043-647da9c7-0000085.txt',\n",
       " '03a2c043-647da9c7-0000086.txt',\n",
       " '03a2c043-647da9c7-0000087.txt',\n",
       " '03a2c043-647da9c7-0000088.txt',\n",
       " '03a2c043-647da9c7-0000089.txt',\n",
       " '03a2c043-647da9c7-0000090.txt',\n",
       " '03a2c043-647da9c7-0000091.txt',\n",
       " '03a2c043-647da9c7-0000092.txt',\n",
       " '03a2c043-647da9c7-0000093.txt',\n",
       " '03a2c043-647da9c7-0000094.txt',\n",
       " '03a2c043-647da9c7-0000095.txt',\n",
       " '03a2c043-647da9c7-0000096.txt',\n",
       " '03a2c043-647da9c7-0000097.txt',\n",
       " '03a2c043-647da9c7-0000098.txt',\n",
       " '03a2c043-647da9c7-0000099.txt',\n",
       " '03a2c043-647da9c7-0000100.txt',\n",
       " '03a2c043-647da9c7-0000101.txt',\n",
       " '03a2c043-647da9c7-0000102.txt',\n",
       " '03a2c043-647da9c7-0000103.txt',\n",
       " '03a2c043-647da9c7-0000104.txt',\n",
       " '03a2c043-647da9c7-0000105.txt',\n",
       " '03a2c043-647da9c7-0000106.txt',\n",
       " '03a2c043-647da9c7-0000107.txt',\n",
       " '03a2c043-647da9c7-0000108.txt',\n",
       " '03a2c043-647da9c7-0000109.txt',\n",
       " '03a2c043-647da9c7-0000110.txt',\n",
       " '03a2c043-647da9c7-0000111.txt',\n",
       " '03a2c043-647da9c7-0000112.txt',\n",
       " '03a2c043-647da9c7-0000113.txt',\n",
       " '03a2c043-647da9c7-0000114.txt',\n",
       " '03a2c043-647da9c7-0000115.txt',\n",
       " '03a2c043-647da9c7-0000116.txt',\n",
       " '03a2c043-647da9c7-0000117.txt',\n",
       " '03a2c043-647da9c7-0000118.txt',\n",
       " '03a2c043-647da9c7-0000119.txt',\n",
       " '03a2c043-647da9c7-0000120.txt',\n",
       " '03a2c043-647da9c7-0000121.txt',\n",
       " '03a2c043-647da9c7-0000122.txt',\n",
       " '03a2c043-647da9c7-0000123.txt',\n",
       " '03a2c043-647da9c7-0000124.txt',\n",
       " '03a2c043-647da9c7-0000125.txt',\n",
       " '03a2c043-647da9c7-0000126.txt',\n",
       " '03a2c043-647da9c7-0000127.txt',\n",
       " '03a2c043-647da9c7-0000128.txt',\n",
       " '03a2c043-647da9c7-0000129.txt',\n",
       " '03a2c043-647da9c7-0000130.txt',\n",
       " '03a2c043-647da9c7-0000131.txt',\n",
       " '03a2c043-647da9c7-0000132.txt',\n",
       " '03a2c043-647da9c7-0000133.txt',\n",
       " '03a2c043-647da9c7-0000134.txt',\n",
       " '03a2c043-647da9c7-0000135.txt',\n",
       " '03a2c043-647da9c7-0000136.txt',\n",
       " '03a2c043-647da9c7-0000137.txt',\n",
       " '03a2c043-647da9c7-0000138.txt',\n",
       " '03a2c043-647da9c7-0000139.txt',\n",
       " '03a2c043-647da9c7-0000140.txt',\n",
       " '03a2c043-647da9c7-0000141.txt',\n",
       " '03a2c043-647da9c7-0000142.txt',\n",
       " '03a2c043-647da9c7-0000143.txt',\n",
       " '03a2c043-647da9c7-0000144.txt',\n",
       " '03a2c043-647da9c7-0000145.txt',\n",
       " '03a2c043-647da9c7-0000146.txt',\n",
       " '03a2c043-647da9c7-0000147.txt',\n",
       " '03a2c043-647da9c7-0000148.txt',\n",
       " '03a2c043-647da9c7-0000149.txt',\n",
       " '03a2c043-647da9c7-0000150.txt',\n",
       " '03a2c043-647da9c7-0000151.txt',\n",
       " '03a2c043-647da9c7-0000152.txt',\n",
       " '03a2c043-647da9c7-0000153.txt',\n",
       " '03a2c043-647da9c7-0000154.txt',\n",
       " '03a2c043-647da9c7-0000155.txt',\n",
       " '03a2c043-647da9c7-0000156.txt',\n",
       " '03a2c043-647da9c7-0000157.txt',\n",
       " '03a2c043-647da9c7-0000158.txt',\n",
       " '03a2c043-647da9c7-0000159.txt',\n",
       " '03a2c043-647da9c7-0000160.txt',\n",
       " '03a2c043-647da9c7-0000161.txt',\n",
       " '03a2c043-647da9c7-0000162.txt',\n",
       " '03a2c043-647da9c7-0000163.txt',\n",
       " '03a2c043-647da9c7-0000164.txt',\n",
       " '03a2c043-647da9c7-0000165.txt',\n",
       " '03a2c043-647da9c7-0000166.txt',\n",
       " '03a2c043-647da9c7-0000167.txt',\n",
       " '03a2c043-647da9c7-0000168.txt',\n",
       " '03a2c043-647da9c7-0000169.txt',\n",
       " '03a2c043-647da9c7-0000170.txt',\n",
       " '03a2c043-647da9c7-0000171.txt',\n",
       " '03a2c043-647da9c7-0000172.txt',\n",
       " '03a2c043-647da9c7-0000173.txt',\n",
       " '03a2c043-647da9c7-0000174.txt',\n",
       " '03a2c043-647da9c7-0000175.txt',\n",
       " '03a2c043-647da9c7-0000176.txt',\n",
       " '03a2c043-647da9c7-0000177.txt',\n",
       " '03a2c043-647da9c7-0000178.txt',\n",
       " '03a2c043-647da9c7-0000179.txt',\n",
       " '03a2c043-647da9c7-0000180.txt',\n",
       " '03a2c043-647da9c7-0000181.txt',\n",
       " '03a2c043-647da9c7-0000182.txt',\n",
       " '03a2c043-647da9c7-0000183.txt',\n",
       " '03a2c043-647da9c7-0000184.txt',\n",
       " '03a2c043-647da9c7-0000185.txt',\n",
       " '03a2c043-647da9c7-0000186.txt',\n",
       " '03a2c043-647da9c7-0000187.txt',\n",
       " '03a2c043-647da9c7-0000188.txt',\n",
       " '03a2c043-647da9c7-0000189.txt',\n",
       " '03a2c043-647da9c7-0000190.txt',\n",
       " '03a2c043-647da9c7-0000191.txt',\n",
       " '03a2c043-647da9c7-0000192.txt',\n",
       " '03a2c043-647da9c7-0000193.txt',\n",
       " '03a2c043-647da9c7-0000194.txt',\n",
       " '03a2c043-647da9c7-0000195.txt',\n",
       " '03a2c043-647da9c7-0000196.txt',\n",
       " '03a2c043-647da9c7-0000197.txt',\n",
       " '03a2c043-647da9c7-0000198.txt',\n",
       " '03a2c043-647da9c7-0000199.txt',\n",
       " '03a2c043-647da9c7-0000200.txt',\n",
       " '03a2c043-647da9c7-0000201.txt',\n",
       " '03a2c043-647da9c7-0000202.txt',\n",
       " '03a2c043-647da9c7-0000203.txt']"
      ]
     },
     "execution_count": 7,
     "metadata": {},
     "output_type": "execute_result"
    }
   ],
   "source": [
    "label_dir_path = root_path + '/res/labels/03a2c043-647da9c7'\n",
    "\n",
    "pathlist = os.listdir(label_dir_path)\n",
    "pathlist.sort(key=lambda x: int(x[-8:-4]))\n",
    "pathlist"
   ]
  },
  {
   "cell_type": "code",
   "execution_count": 8,
   "id": "1e049f82",
   "metadata": {
    "pycharm": {
     "name": "#%%\n"
    }
   },
   "outputs": [
    {
     "name": "stderr",
     "output_type": "stream",
     "text": [
      "Fusing layers... \n",
      "Fusing layers... \n",
      "YOLOv5m summary: 290 layers, 20881221 parameters, 0 gradients\n",
      "YOLOv5m summary: 290 layers, 20881221 parameters, 0 gradients\n",
      "WARNING ⚠️ --img-size [720, 1280] must be multiple of max stride 32, updating to [736, 1280]\n",
      "WARNING ⚠️ --img-size [720, 1280] must be multiple of max stride 32, updating to [736, 1280]\n"
     ]
    }
   ],
   "source": [
    "yolo = YOLO()"
   ]
  },
  {
   "cell_type": "code",
   "execution_count": 9,
   "id": "b88cdea0",
   "metadata": {
    "pycharm": {
     "name": "#%%\n"
    }
   },
   "outputs": [],
   "source": [
    "chunk_i = 0\n",
    "inference_process = stream.inference_process(chunk_i * chunk_duration)\n",
    "BATCH_SIZE = 2\n",
    "tt0 = time.time()\n",
    "\n",
    "while True:\n",
    "    in_bytes = inference_process.stdout.read(stream.width * stream.height * 3 * BATCH_SIZE)\n",
    "\n",
    "    if not in_bytes:\n",
    "        print(f\">> chunk{chunk_i} >> [rgb24-ffmpeg] >> costs {round(time.time() - tt0, 4)}s\")\n",
    "        break\n",
    "    else:\n",
    "        in_frame = bytes2numpy(BATCH_SIZE, in_bytes, stream.height, stream.width)\n",
    "        pred = yolo.inference(in_frame)\n",
    "        break"
   ]
  },
  {
   "cell_type": "code",
   "execution_count": 10,
   "id": "db36375e",
   "metadata": {
    "pycharm": {
     "name": "#%%\n"
    }
   },
   "outputs": [
    {
     "data": {
      "text/plain": [
       "array([[          2,     0.11182,     0.46723,     0.22364,     0.36093],\n",
       "       [          2,     0.30005,     0.50151,    0.024741,    0.028461],\n",
       "       [          2,     0.42266,     0.48728,    0.016737,    0.025873],\n",
       "       [          2,     0.44995,     0.48081,    0.016009,    0.023286],\n",
       "       [          2,     0.46378,      0.4737,    0.029107,    0.042691],\n",
       "       [          2,     0.49907,     0.47176,    0.019647,    0.031048],\n",
       "       [          2,     0.56238,     0.46464,    0.018192,    0.027167],\n",
       "       [          2,      0.5893,     0.45882,    0.037112,    0.051746],\n",
       "       [          2,     0.60859,     0.47046,    0.017464,     0.03881],\n",
       "       [          2,     0.63842,     0.47434,     0.03784,    0.062096],\n",
       "       [          2,     0.67262,     0.47952,    0.068402,    0.072445],\n",
       "       [          0,     0.71774,       0.453,    0.016009,    0.060802],\n",
       "       [          0,     0.67408,     0.43424,    0.013098,    0.023286]])"
      ]
     },
     "execution_count": 10,
     "metadata": {},
     "output_type": "execute_result"
    }
   ],
   "source": [
    "label_0 = np.loadtxt(os.path.join(label_dir_path, pathlist[0]))\n",
    "label_0"
   ]
  },
  {
   "cell_type": "code",
   "execution_count": 11,
   "id": "39fc059f",
   "metadata": {
    "pycharm": {
     "name": "#%%\n"
    }
   },
   "outputs": [],
   "source": [
    "label_0[:,1:5] = xywh2xyxy(label_0[:, 1:5]) *  ([1280, 720, 1280, 720])# target boxes"
   ]
  },
  {
   "cell_type": "code",
   "execution_count": 12,
   "id": "30f44294",
   "metadata": {
    "pycharm": {
     "name": "#%%\n"
    }
   },
   "outputs": [
    {
     "data": {
      "text/plain": [
       "array([[          2,           0,      206.47,      286.26,      466.34],\n",
       "       [          2,      368.23,      350.84,       399.9,      371.33],\n",
       "       [          2,       530.3,      341.53,      551.72,      360.16],\n",
       "       [          2,      565.69,       337.8,      586.18,      354.57],\n",
       "       [          2,      575.01,      325.69,      612.26,      356.43],\n",
       "       [          2,      626.24,      328.49,      651.38,      350.84],\n",
       "       [          2,       708.2,      324.76,      731.49,      344.32],\n",
       "       [          2,      730.56,      311.72,      778.06,      348.98],\n",
       "       [          2,      767.81,      324.76,      790.17,       352.7],\n",
       "       [          2,      792.96,      319.17,       841.4,      363.88],\n",
       "       [          2,      817.18,      319.17,      904.73,      371.33],\n",
       "       [          0,      908.46,      304.27,      928.95,      348.05],\n",
       "       [          0,      854.44,      304.27,       871.2,      321.03]])"
      ]
     },
     "execution_count": 12,
     "metadata": {},
     "output_type": "execute_result"
    }
   ],
   "source": [
    "label_0"
   ]
  },
  {
   "cell_type": "code",
   "execution_count": 13,
   "id": "6e35b3e4",
   "metadata": {
    "pycharm": {
     "name": "#%%\n"
    }
   },
   "outputs": [
    {
     "data": {
      "text/plain": [
       "tensor([[2.00000e+00, 2.11000e+02, 2.82000e+02, 4.73000e+02, 8.25042e-01, 3.00000e+00],\n",
       "        [8.20000e+02, 3.21000e+02, 9.06000e+02, 3.72000e+02, 7.79705e-01, 2.00000e+00],\n",
       "        [7.90000e+02, 3.17000e+02, 8.44000e+02, 3.65000e+02, 7.61609e-01, 2.00000e+00],\n",
       "        [7.33000e+02, 3.15000e+02, 7.77000e+02, 3.53000e+02, 6.57900e-01, 2.00000e+00],\n",
       "        [5.77000e+02, 3.37000e+02, 6.09000e+02, 3.60000e+02, 6.37617e-01, 2.00000e+00],\n",
       "        [9.09000e+02, 3.05000e+02, 9.29000e+02, 3.47000e+02, 6.08582e-01, 0.00000e+00],\n",
       "        [5.28000e+02, 3.43000e+02, 5.52000e+02, 3.60000e+02, 5.71974e-01, 2.00000e+00],\n",
       "        [6.28000e+02, 3.31000e+02, 6.52000e+02, 3.50000e+02, 5.39321e-01, 2.00000e+00],\n",
       "        [5.48000e+02, 3.42000e+02, 5.67000e+02, 3.58000e+02, 5.10011e-01, 2.00000e+00],\n",
       "        [7.69000e+02, 3.20000e+02, 8.04000e+02, 3.55000e+02, 4.17973e-01, 2.00000e+00],\n",
       "        [1.06300e+03, 2.99000e+02, 1.08700e+03, 3.48000e+02, 4.04844e-01, 0.00000e+00],\n",
       "        [7.06000e+02, 3.26000e+02, 7.30000e+02, 3.47000e+02, 3.45091e-01, 2.00000e+00],\n",
       "        [6.66000e+02, 3.34000e+02, 6.83000e+02, 3.49000e+02, 3.24818e-01, 2.00000e+00]])"
      ]
     },
     "execution_count": 13,
     "metadata": {},
     "output_type": "execute_result"
    }
   ],
   "source": [
    "pred[0]"
   ]
  },
  {
   "cell_type": "code",
   "execution_count": 14,
   "id": "d2deba40",
   "metadata": {
    "pycharm": {
     "name": "#%%\n"
    }
   },
   "outputs": [],
   "source": [
    "def process_batch(detections, labels, iouv):\n",
    "    \"\"\"\n",
    "    Return correct prediction matrix\n",
    "    Arguments:\n",
    "        detections (array[N, 6]), x1, y1, x2, y2, conf, class\n",
    "        labels (array[M, 5]), class, x1, y1, x2, y2\n",
    "    Returns:\n",
    "        correct (array[N, 10]), for 10 IoU levels\n",
    "    \"\"\"\n",
    "    correct = np.zeros((detections.shape[0], iouv.shape[0])).astype(bool)\n",
    "    iou = box_iou(labels[:, 1:], detections[:, :4])\n",
    "    correct_class = labels[:, 0:1] == detections[:, 5]\n",
    "    for i in range(len(iouv)):\n",
    "        x = torch.where((iou >= iouv[i]) & correct_class)  # IoU > threshold and classes match\n",
    "        if x[0].shape[0]:\n",
    "            matches = torch.cat((torch.stack(x, 1), iou[x[0], x[1]][:, None]), 1).cpu().numpy()  # [label, detect, iou]\n",
    "            if x[0].shape[0] > 1:\n",
    "                matches = matches[matches[:, 2].argsort()[::-1]]\n",
    "                matches = matches[np.unique(matches[:, 1], return_index=True)[1]]\n",
    "                # matches = matches[matches[:, 2].argsort()[::-1]]\n",
    "                matches = matches[np.unique(matches[:, 0], return_index=True)[1]]\n",
    "            correct[matches[:, 1].astype(int), i] = True\n",
    "    return torch.tensor(correct, dtype=torch.bool, device=iouv.device)"
   ]
  },
  {
   "cell_type": "code",
   "execution_count": 15,
   "id": "96e6b63a",
   "metadata": {
    "pycharm": {
     "name": "#%%\n"
    }
   },
   "outputs": [],
   "source": [
    "iouv = torch.linspace(0.5, 0.95, 10)\n",
    "stats = process_batch(pred[0], torch.tensor(label_0), iouv)"
   ]
  },
  {
   "cell_type": "code",
   "execution_count": 16,
   "id": "86358e2a",
   "metadata": {
    "pycharm": {
     "name": "#%%\n"
    }
   },
   "outputs": [
    {
     "data": {
      "text/plain": [
       "tensor([[False, False, False, False, False, False, False, False, False, False],\n",
       "        [ True,  True,  True,  True,  True,  True,  True,  True,  True, False],\n",
       "        [ True,  True,  True,  True,  True,  True,  True, False, False, False],\n",
       "        [ True,  True,  True,  True,  True,  True, False, False, False, False],\n",
       "        [False, False, False, False, False, False, False, False, False, False],\n",
       "        [ True,  True,  True,  True,  True,  True,  True,  True,  True, False],\n",
       "        [ True,  True,  True,  True,  True,  True,  True, False, False, False],\n",
       "        [ True,  True,  True,  True,  True,  True, False, False, False, False],\n",
       "        [False, False, False, False, False, False, False, False, False, False],\n",
       "        [False, False, False, False, False, False, False, False, False, False],\n",
       "        [False, False, False, False, False, False, False, False, False, False],\n",
       "        [ True,  True,  True,  True,  True, False, False, False, False, False],\n",
       "        [False, False, False, False, False, False, False, False, False, False]])"
      ]
     },
     "execution_count": 16,
     "metadata": {},
     "output_type": "execute_result"
    }
   ],
   "source": [
    "stats"
   ]
  },
  {
   "cell_type": "code",
   "execution_count": 17,
   "id": "56d90c01",
   "metadata": {
    "pycharm": {
     "name": "#%%\n"
    }
   },
   "outputs": [
    {
     "data": {
      "text/plain": [
       "0.5384615384615384"
      ]
     },
     "execution_count": 17,
     "metadata": {},
     "output_type": "execute_result"
    }
   ],
   "source": [
    "stats.cpu().numpy()[:, 0].mean()"
   ]
  },
  {
   "cell_type": "code",
   "execution_count": null,
   "id": "25ef12c8",
   "metadata": {
    "pycharm": {
     "name": "#%%\n"
    }
   },
   "outputs": [],
   "source": []
  }
 ],
 "metadata": {
  "kernelspec": {
   "display_name": "Python 3 (ipykernel)",
   "language": "python",
   "name": "python3"
  },
  "language_info": {
   "codemirror_mode": {
    "name": "ipython",
    "version": 3
   },
   "file_extension": ".py",
   "mimetype": "text/x-python",
   "name": "python",
   "nbconvert_exporter": "python",
   "pygments_lexer": "ipython3",
   "version": "3.9.13"
  }
 },
 "nbformat": 4,
 "nbformat_minor": 5
}